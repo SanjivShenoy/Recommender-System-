{
 "cells": [
  {
   "cell_type": "code",
   "execution_count": 1,
   "metadata": {},
   "outputs": [
    {
     "name": "stdout",
     "output_type": "stream",
     "text": [
      "ratings done\n",
      "[[0. 0. 0. ... 0. 0. 0.]\n",
      " [0. 5. 0. ... 0. 0. 3.]\n",
      " [0. 0. 0. ... 0. 0. 0.]\n",
      " ...\n",
      " [0. 0. 0. ... 0. 0. 0.]\n",
      " [0. 0. 0. ... 0. 0. 0.]\n",
      " [0. 0. 0. ... 0. 0. 0.]]\n",
      "5.178471434974474e-15\n",
      "(3953, 2) (2, 2) (2, 6041)\n"
     ]
    }
   ],
   "source": [
    "# -*- coding: utf-8 -*-\n",
    "\"\"\"\n",
    "Created on Tue Oct 29 23:13:22 2019\n",
    "\n",
    "@author: Manish\n",
    "\"\"\"\n",
    "import numpy as np\n",
    "import random\n",
    "import math\n",
    "from cur import cur_decomposition\n",
    "\n",
    "if __name__ == '__main__':\n",
    "\n",
    "    f=open(\"ratings.dat\", \"r\")\n",
    "    ratings = []\n",
    "    if f.mode == 'r':\n",
    "        contents = f.read()\n",
    "        ratings = contents.strip().split('\\n')\n",
    "    f.close()\n",
    "\n",
    "    ratings_list =[]\n",
    "    for r in ratings:\n",
    "        r = r.split('::')\n",
    "        ratings_list.append([int(r[0]), int(r[1]), int(r[2]), int(r[3])])\n",
    "\n",
    "    print(\"ratings done\")\n",
    "\n",
    "    random.shuffle(ratings_list)\n",
    "    test_data = ratings_list[int(0.7*len(ratings_list)):]\n",
    "    train_data =  ratings_list[:int(0.7*len(ratings_list))]\n",
    "\n",
    "    NO_USERS = 6041 #Max of userID\n",
    "    NO_MOVIES = 3953 #max of movieID\n",
    "    matrix = np.zeros((NO_MOVIES , NO_USERS))\n",
    "    matrix2 = np.zeros((NO_MOVIES , NO_USERS))\n",
    "\n",
    "    for r in ratings_list:\n",
    "        matrix[r[1]][r[0]] = r[2]\n",
    "\n",
    "    print(matrix)\n",
    "\n",
    "    u, s, vh = np.linalg.svd(matrix, full_matrices=False)\n",
    "\n",
    "    smat = np.diag(s)\n",
    "\n",
    "    x = np.dot(smat,vh)\n",
    "    matrix_new = np.dot(u,x)\n",
    "\n",
    "    error = (matrix - matrix_new)\n",
    "\n",
    "    sum1 = 0\n",
    "    for i in range(len(error)):\n",
    "        for j in range(len(error[i])):\n",
    "            sum1+=(error[i][j]*error[i][j])\n",
    "\n",
    "    sum1/=(NO_USERS*NO_MOVIES)\n",
    "\n",
    "    rmse = math.sqrt(sum1)\n",
    "\n",
    "    print(rmse)\n",
    "\n",
    "    Q = np.matmul(u,smat)\n",
    "    PT = vh\n",
    "\n",
    "    C, U, R = cur_decomposition(matrix,2)\n",
    "\n",
    "    print(C.shape, U.shape, R.shape)\n",
    "    \n",
    "    temp = np.dot(U,R)\n",
    "    matrix_new_cur = np.dot(C,temp)\n",
    "\n",
    "    error_cur = (matrix - matrix_new_cur)\n",
    "\n",
    "    sum2 = 0\n",
    "    for i in range(len(error_cur)):\n",
    "        for j in range(len(error_cur[i])):\n",
    "            sum2+=(error_cur[i][j]*error_cur[i][j])\n",
    "\n",
    "    sum2/=(NO_USERS*NO_MOVIES)\n",
    "\n",
    "    rmse_cur = math.sqrt(sum2)\n",
    "    \n",
    "    print(rmse_cur)\n",
    "    \n",
    "    \n",
    "\n"
   ]
  },
  {
   "cell_type": "code",
   "execution_count": 4,
   "metadata": {},
   "outputs": [
    {
     "name": "stdout",
     "output_type": "stream",
     "text": [
      "Collecting cur\n",
      "  Downloading https://files.pythonhosted.org/packages/c9/29/c0f5c82060c685e8df0e74d2ba6568d63d750fdf421dfa84828a28650c86/cur-0.0.1.tar.gz\n",
      "Requirement already satisfied: numpy in /Users/sanjivshenoy/opt/anaconda3/lib/python3.7/site-packages (from cur) (1.17.2)\n",
      "Building wheels for collected packages: cur\n",
      "  Building wheel for cur (setup.py) ... \u001b[?25ldone\n",
      "\u001b[?25h  Created wheel for cur: filename=cur-0.0.1-cp37-none-any.whl size=2737 sha256=88d5355340d9bbe598f08f80044b07b032eb17d9a48c57a63f293b9af905a5a9\n",
      "  Stored in directory: /Users/sanjivshenoy/Library/Caches/pip/wheels/17/2b/3d/1ced4605b6f520cc2d325c480ef779e80ea66f3baf0204cac6\n",
      "Successfully built cur\n",
      "Installing collected packages: cur\n",
      "Successfully installed cur-0.0.1\n",
      "Note: you may need to restart the kernel to use updated packages.\n"
     ]
    }
   ],
   "source": [
    "pip install cur"
   ]
  },
  {
   "cell_type": "code",
   "execution_count": null,
   "metadata": {},
   "outputs": [],
   "source": []
  }
 ],
 "metadata": {
  "kernelspec": {
   "display_name": "Python 3",
   "language": "python",
   "name": "python3"
  },
  "language_info": {
   "codemirror_mode": {
    "name": "ipython",
    "version": 3
   },
   "file_extension": ".py",
   "mimetype": "text/x-python",
   "name": "python",
   "nbconvert_exporter": "python",
   "pygments_lexer": "ipython3",
   "version": "3.7.4"
  }
 },
 "nbformat": 4,
 "nbformat_minor": 2
}
